{
 "cells": [
  {
   "cell_type": "code",
   "execution_count": null,
   "metadata": {},
   "outputs": [],
   "source": [
    "class Set:\n",
    "    # these are the member functions\n",
    "    # every one takes a first parameter \"self\"\n",
    "    # that refers to the particular Set object being used\n",
    "    \n",
    "    def __init__(self, values=None):\n",
    "        \"\"\"This is the constructor.\n",
    "        It gets called when you create a new Set.\n",
    "        You would use it like \n",
    "        s1 = Set()  # empty set\n",
    "        s2 - Set([1,2,2,3]) # initalize with values\"\"\"\n",
    "        \n",
    "        self.dict = {} # each instance of Set has its ow dict property # which is what we'll use to track memberships\n",
    "        if values is not None:\n",
    "            for value in values:\n",
    "                self.add(value)\n",
    "                \n",
    "    def __repr__(self):\n",
    "        \"\"\" this is the string representation of a Set object\n",
    "        if you type it at the Python prompt or pss it to str()\"\"\"\n",
    "\n",
    "        return \"Set: \" + str(self.dict.key())\n",
    "    \n",
    "    "
   ]
  }
 ],
 "metadata": {
  "kernelspec": {
   "display_name": "Python 3",
   "language": "python",
   "name": "python3"
  },
  "language_info": {
   "codemirror_mode": {
    "name": "ipython",
    "version": 3
   },
   "file_extension": ".py",
   "mimetype": "text/x-python",
   "name": "python",
   "nbconvert_exporter": "python",
   "pygments_lexer": "ipython3",
   "version": "3.7.0"
  }
 },
 "nbformat": 4,
 "nbformat_minor": 2
}
